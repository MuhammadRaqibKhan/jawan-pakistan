{
 "cells": [
  {
   "cell_type": "code",
   "execution_count": 2,
   "id": "9317eea4-46c7-4c60-96c9-cb5820e5c593",
   "metadata": {},
   "outputs": [
    {
     "name": "stdout",
     "output_type": "stream",
     "text": [
      "Aman you are invited\n",
      "Mubashir you are invited\n",
      "Sharjeel you are invited\n"
     ]
    }
   ],
   "source": [
    "guest_list=[\"Aman\", \"Mubashir\",\"Sharjeel\"]\n",
    "print(guest_list[0], \"you are invited\")\n",
    "print(guest_list[1], \"you are invited\")\n",
    "print(guest_list[2], \"you are invited\")\n"
   ]
  },
  {
   "cell_type": "code",
   "execution_count": 14,
   "id": "06f2d14d-3480-4e30-8560-5b2e1df43770",
   "metadata": {},
   "outputs": [
    {
     "name": "stdout",
     "output_type": "stream",
     "text": [
      "Aman you are invited\n",
      "Mubashir you are invited\n",
      "Sharjeel you are invited\n",
      "Sharjeel can't make it\n",
      "Aman you are invited\n",
      "Mubashir you are invited\n",
      "Osama you are invited\n"
     ]
    }
   ],
   "source": [
    "guest_list=[\"Aman\", \"Mubashir\",\"Sharjeel\"]\n",
    "print(guest_list[0], \"you are invited\")\n",
    "print(guest_list[1], \"you are invited\")\n",
    "print(guest_list[2], \"you are invited\")\n",
    "print(guest_list[2], \"can't make it\")\n",
    "guest_list.remove(\"Sharjeel\")\n",
    "guest_list.append(\"Osama\")\n",
    "print(guest_list[0], \"you are invited\")\n",
    "print(guest_list[1], \"you are invited\")\n",
    "print(guest_list[2], \"you are invited\")\n",
    "\n",
    "      "
   ]
  },
  {
   "cell_type": "code",
   "execution_count": 20,
   "id": "67acacc3-5610-4023-9cc4-e5c047b1e220",
   "metadata": {},
   "outputs": [
    {
     "name": "stdout",
     "output_type": "stream",
     "text": [
      "Aman you are invited\n",
      "Mubashir you are invited\n",
      "Sharjeel you are invited\n",
      "Sharjeel can't make it\n",
      "Aman you are invited\n",
      "Mubashir you are invited\n",
      "Osama you are invited\n",
      "I just Found a bigger dinner table\n",
      "Raqib You are invited\n",
      "Ahmed You are invited\n",
      "Aman You are invited\n",
      "Mubashir You are invited\n",
      "Osama You are invited\n"
     ]
    }
   ],
   "source": [
    "guest_list=[\"Aman\", \"Mubashir\",\"Sharjeel\"]\n",
    "print(guest_list[0], \"you are invited\")\n",
    "print(guest_list[1], \"you are invited\")\n",
    "print(guest_list[2], \"you are invited\")\n",
    "print(guest_list[2], \"can't make it\")\n",
    "guest_list.remove(\"Sharjeel\")\n",
    "guest_list.append(\"Osama\")\n",
    "print(guest_list[0], \"you are invited\")\n",
    "print(guest_list[1], \"you are invited\")\n",
    "print(guest_list[2], \"you are invited\")\n",
    "print(\"I just Found a bigger dinner table\")\n",
    "guest_list.insert(0,\"Raqib\")\n",
    "guest_list.insert(1,\"Ahmed\")\n",
    "guest_list.append(\"Shazaib\")\n",
    "print(guest_list[0],\"You are invited\")\n",
    "print(guest_list[1],\"You are invited\")\n",
    "print(guest_list[2],\"You are invited\")\n",
    "print(guest_list[3],\"You are invited\")\n",
    "print(guest_list[4],\"You are invited\")\n",
    "\n",
    "\n"
   ]
  },
  {
   "cell_type": "code",
   "execution_count": 43,
   "id": "6c1fc7f1-0188-44fe-a0e2-afca7445c88c",
   "metadata": {},
   "outputs": [
    {
     "name": "stdout",
     "output_type": "stream",
     "text": [
      "Aman you are invited\n",
      "Mubashir you are invited\n",
      "Sharjeel you are invited\n",
      "Sharjeel can't make it\n",
      "Aman you are invited\n",
      "Mubashir you are invited\n",
      "Osama you are invited\n",
      "I just Found a bigger dinner table\n",
      "Raqib You are invited\n",
      "Ahmed You are invited\n",
      "Aman You are invited\n",
      "Mubashir You are invited\n",
      "Osama You are invited\n",
      "I can invite only two people for dinner\n",
      "Shazaib sorry you are not invite for the dinner\n",
      "Osama sorry you are not invite for the dinner\n",
      "Mubashir sorry you are not invite for the dinner\n",
      "Aman sorry you are not invite for the dinner\n",
      "Raqib you are still invited for the dinner\n",
      "Ahmed  you are still invited for the dinner\n"
     ]
    }
   ],
   "source": [
    "guest_list=[\"Aman\", \"Mubashir\",\"Sharjeel\"]\n",
    "print(guest_list[0], \"you are invited\")\n",
    "print(guest_list[1], \"you are invited\")\n",
    "print(guest_list[2], \"you are invited\")\n",
    "print(guest_list[2], \"can't make it\")\n",
    "guest_list.remove(\"Sharjeel\")\n",
    "guest_list.append(\"Osama\")\n",
    "print(guest_list[0], \"you are invited\")\n",
    "print(guest_list[1], \"you are invited\")\n",
    "print(guest_list[2], \"you are invited\")\n",
    "print(\"I just Found a bigger dinner table\")\n",
    "guest_list.insert(0,\"Raqib\")\n",
    "guest_list.insert(1,\"Ahmed\")\n",
    "guest_list.append(\"Shazaib\")\n",
    "print(guest_list[0],\"You are invited\")\n",
    "print(guest_list[1],\"You are invited\")\n",
    "print(guest_list[2],\"You are invited\")\n",
    "print(guest_list[3],\"You are invited\")\n",
    "print(guest_list[4],\"You are invited\")\n",
    "print(\"I can invite only two people for dinner\")\n",
    "print(guest_list.pop(),\"sorry you are not invite for the dinner\")\n",
    "print(guest_list.pop(), \"sorry you are not invite for the dinner\")\n",
    "print(guest_list.pop(),\"sorry you are not invite for the dinner\")\n",
    "print(guest_list.pop(),\"sorry you are not invite for the dinner\")\n",
    "print(guest_list[0],\"you are still invited for the dinner\")\n",
    "print(guest_list[1],\" you are still invited for the dinner\")"
   ]
  },
  {
   "cell_type": "code",
   "execution_count": 45,
   "id": "5123fcb1-3907-4562-94c2-7b6d74f19fee",
   "metadata": {},
   "outputs": [
    {
     "name": "stdout",
     "output_type": "stream",
     "text": [
      "Aman you are invited\n",
      "Mubashir you are invited\n",
      "Sharjeel you are invited\n",
      "Sharjeel can't make it\n",
      "Aman you are invited\n",
      "Mubashir you are invited\n",
      "Osama you are invited\n",
      "I just Found a bigger dinner table\n",
      "Raqib You are invited\n",
      "Ahmed You are invited\n",
      "Aman You are invited\n",
      "Mubashir You are invited\n",
      "Osama You are invited\n",
      "You can invite only two people for dinner\n",
      "Mubashir sorry you are not inviting for the dinner\n",
      "Aman sorry you are not inviting for the dinner\n",
      "Ahmed sorry you are not inviting for the dinner\n",
      "Raqib you are still invited for the dinner\n",
      "Shazaib  you are still invited for the dinner\n",
      "[]\n"
     ]
    }
   ],
   "source": [
    "guest_list=[\"Aman\", \"Mubashir\",\"Sharjeel\"]\n",
    "print(guest_list[0], \"you are invited\")\n",
    "print(guest_list[1], \"you are invited\")\n",
    "print(guest_list[2], \"you are invited\")\n",
    "print(guest_list[2], \"can't make it\")\n",
    "guest_list.remove(\"Sharjeel\")\n",
    "guest_list.append(\"Osama\")\n",
    "print(guest_list[0], \"you are invited\")\n",
    "print(guest_list[1], \"you are invited\")\n",
    "print(guest_list[2], \"you are invited\")\n",
    "print(\"I just Found a bigger dinner table\")\n",
    "guest_list.insert(0,\"Raqib\")\n",
    "guest_list.insert(1,\"Ahmed\")\n",
    "guest_list.append(\"Shazaib\")\n",
    "print(guest_list[0],\"You are invited\")\n",
    "print(guest_list[1],\"You are invited\")\n",
    "print(guest_list[2],\"You are invited\")\n",
    "print(guest_list[3],\"You are invited\")\n",
    "print(guest_list[4],\"You are invited\")\n",
    "print(\"You can invite only two people for dinner\")\n",
    "guest_list.pop(-2)\n",
    "print(\"Mubashir sorry you are not inviting for the dinner\")\n",
    "guest_list.pop(-3)\n",
    "print(\"Aman sorry you are not inviting for the dinner\")\n",
    "guest_list.pop(1)\n",
    "print(\"Ahmed sorry you are not inviting for the dinner\")\n",
    "print(guest_list[0],\"you are still invited for the dinner\")\n",
    "print(guest_list[2],\" you are still invited for the dinner\")\n",
    "del guest_list[:]\n",
    "print(guest_list)"
   ]
  },
  {
   "cell_type": "markdown",
   "id": "6069ad40-3779-4373-8ffb-d29cd66ae09b",
   "metadata": {},
   "source": [
    "# indexing and slicing"
   ]
  },
  {
   "cell_type": "code",
   "execution_count": 2,
   "id": "f6aedfc3-b792-49cf-8c97-954f67e9cd44",
   "metadata": {},
   "outputs": [
    {
     "name": "stdout",
     "output_type": "stream",
     "text": [
      "Aadir\n",
      "['Osama', 'raqib']\n"
     ]
    }
   ],
   "source": [
    "invitation = ['Osama','raqib','Aadir']\n",
    "print(invitation[2])\n",
    "print(invitation[:-1])"
   ]
  },
  {
   "cell_type": "markdown",
   "id": "881a2456-beea-4bb2-9a69-480e35fd0b81",
   "metadata": {},
   "source": [
    "## marksheet"
   ]
  },
  {
   "cell_type": "code",
   "execution_count": null,
   "id": "735710e4-f54a-40a4-914d-a4142eb8754b",
   "metadata": {},
   "outputs": [],
   "source": [
    "a=float(input(\"enter first subject's marks\"))\n",
    "b=float(input(\"enter second subject's marks\"))\n",
    "c=float(input(\"enter third subject's marks\"))\n",
    "d=float(input(\"enter fourth subject's marks\"))\n",
    "e=float(input(\"enter fivth subject's marks\"))\n",
    "sum=a+b+c+d+e\n",
    "avg=sum/5\n",
    "if avg>=90:\n",
    "    print(\"your grade is A+\")\n",
    "elif avg>= 80:\n",
    "    print(\"your grade is A\")\n",
    "elif avg>= 70:\n",
    "    print(\"your grade is B\")\n",
    "elif avg>= 60:\n",
    "    print(\"your grade is C\")\n",
    "else:\n",
    "    print(\"your grade is F\")"
   ]
  }
 ],
 "metadata": {
  "kernelspec": {
   "display_name": "Python 3 (ipykernel)",
   "language": "python",
   "name": "python3"
  },
  "language_info": {
   "codemirror_mode": {
    "name": "ipython",
    "version": 3
   },
   "file_extension": ".py",
   "mimetype": "text/x-python",
   "name": "python",
   "nbconvert_exporter": "python",
   "pygments_lexer": "ipython3",
   "version": "3.12.4"
  }
 },
 "nbformat": 4,
 "nbformat_minor": 5
}
