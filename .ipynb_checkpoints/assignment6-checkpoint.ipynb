{
 "cells": [
  {
   "cell_type": "code",
   "execution_count": 1,
   "id": "0b74ae3a-3cd4-4f16-bc2c-ebfa9f5325e8",
   "metadata": {},
   "outputs": [
    {
     "name": "stdout",
     "output_type": "stream",
     "text": [
      "* \n",
      "* * \n",
      "* * * \n",
      "* * * * \n",
      "* * * * * \n",
      "* * * * \n",
      "* * * \n",
      "* * \n",
      "* \n"
     ]
    }
   ],
   "source": [
    "n = 5  \n",
    "\n",
    "for i in range(1, n + 1):\n",
    "    for j in range(i):\n",
    "        print('*', end=' ')\n",
    "    print()\n",
    "\n",
    "for i in range(n - 1, 0, -1):\n",
    "    for j in range(i):\n",
    "        print('*', end=' ')\n",
    "    print()\n"
   ]
  },
  {
   "cell_type": "code",
   "execution_count": 13,
   "id": "0d8d7764-9499-4902-baad-a704671e1504",
   "metadata": {},
   "outputs": [
    {
     "name": "stdin",
     "output_type": "stream",
     "text": [
      "Enter an alphabet:  A\n"
     ]
    },
    {
     "name": "stdout",
     "output_type": "stream",
     "text": [
      "'A' is a vowel.\n"
     ]
    }
   ],
   "source": [
    "\n",
    "alphabet = input(\"Enter an alphabet: \")\n",
    "\n",
    "\n",
    "if alphabet in 'aeiouAEIOU':\n",
    "        print(f\"'{alphabet}' is a vowel.\")\n",
    "else:\n",
    "        print(f\"'{alphabet}' is a consonant.\")"
   ]
  },
  {
   "cell_type": "code",
   "execution_count": 24,
   "id": "ab8c32ef-7972-4802-b30d-a48446e9e930",
   "metadata": {},
   "outputs": [
    {
     "name": "stdin",
     "output_type": "stream",
     "text": [
      "Input a number:  6\n"
     ]
    },
    {
     "name": "stdout",
     "output_type": "stream",
     "text": [
      "6 x 1 = 6\n",
      "6 x 2 = 12\n",
      "6 x 3 = 18\n",
      "6 x 4 = 24\n",
      "6 x 5 = 30\n",
      "6 x 6 = 36\n",
      "6 x 7 = 42\n",
      "6 x 8 = 48\n",
      "6 x 9 = 54\n",
      "6 x 10 = 60\n"
     ]
    }
   ],
   "source": [
    "number = int(input(\"Input a number: \"))\n",
    "for n in range(1, 11):\n",
    "    print(f\"{number} x {n} = {number*n}\")"
   ]
  },
  {
   "cell_type": "code",
   "execution_count": 2,
   "id": "0df09996-fdb8-4e34-82c9-aa39faed949f",
   "metadata": {},
   "outputs": [
    {
     "name": "stdin",
     "output_type": "stream",
     "text": [
      "Guess a number between 1 and 9:  4\n"
     ]
    },
    {
     "name": "stdout",
     "output_type": "stream",
     "text": [
      "Try again!\n"
     ]
    },
    {
     "name": "stdin",
     "output_type": "stream",
     "text": [
      "Guess a number between 1 and 9:  5\n"
     ]
    },
    {
     "name": "stdout",
     "output_type": "stream",
     "text": [
      "Well guessed!\n"
     ]
    }
   ],
   "source": [
    "number_to_guess = 5 \n",
    "user_guess = None\n",
    "while user_guess != number_to_guess:\n",
    "\n",
    "    user_guess = int(input(\"Guess a number between 1 and 9: \"))\n",
    "\n",
    "    if user_guess == number_to_guess:\n",
    "        print(\"Well guessed!\")\n",
    "    else:\n",
    "        print(\"Try again!\")\n"
   ]
  },
  {
   "cell_type": "code",
   "execution_count": 3,
   "id": "bcaec5f9-5b4c-4741-9fb9-3d745f89df04",
   "metadata": {},
   "outputs": [
    {
     "name": "stdout",
     "output_type": "stream",
     "text": [
      "{'Cierra Vega': (6.2, 70)}\n"
     ]
    }
   ],
   "source": [
    "new_name = {}\n",
    "original_Dictionary = {\n",
    "    'Cierra Vega': (6.2, 70), 'Alden Cantrell': (5.9, 65), \n",
    "    'Kierra Gentry': (6.0, 68), 'Pierre Cox': (5.8, 66)\n",
    "}\n",
    "for i, (n, m) in original_Dictionary.items():\n",
    "    if n > 6 or m >=70:\n",
    "        new_name[i] = n,m\n",
    "        print(new_name)"
   ]
  },
  {
   "cell_type": "code",
   "execution_count": 7,
   "id": "9a0cbcf1-9275-4726-9c16-0a8fc1ed99e7",
   "metadata": {},
   "outputs": [
    {
     "name": "stdout",
     "output_type": "stream",
     "text": [
      "{'C1': [], 'C2': [], 'C3': []}\n"
     ]
    }
   ],
   "source": [
    "my_dict ={\n",
    "    'C1': [10, 20, 30], \n",
    "    'C2': [20, 30, 40], \n",
    "    'C3': [12, 34]\n",
    "}\n",
    "\n",
    "for key in my_dict:\n",
    "    my_dict[key].clear()\n",
    "print(my_dict)"
   ]
  },
  {
   "cell_type": "code",
   "execution_count": 10,
   "id": "f874d394-481e-4849-a764-2d239cf5efb3",
   "metadata": {},
   "outputs": [
    {
     "name": "stdout",
     "output_type": "stream",
     "text": [
      "The nile runs through egypy\n",
      "The congo runs through africa\n",
      "The amazon runs through south america\n",
      "\n",
      "nile\n",
      "congo\n",
      "amazon\n",
      "\n",
      "egypy\n",
      "africa\n",
      "south america\n"
     ]
    }
   ],
   "source": [
    "dict_river = {\n",
    "    'nile': 'egypy',\n",
    "    'congo': 'africa',\n",
    "    'amazon': 'south america'\n",
    "}\n",
    "for river, country in dict_river.items():\n",
    "    print(\"The\", river,\"runs through\",country)\n",
    "print()\n",
    "for river in dict_river.keys():\n",
    "    print(river)\n",
    "print()\n",
    "for country in dict_river.values():\n",
    "    print(country)  \n"
   ]
  },
  {
   "cell_type": "code",
   "execution_count": 11,
   "id": "03f08cdd-55f0-490a-96bb-093310518533",
   "metadata": {},
   "outputs": [
    {
     "name": "stdin",
     "output_type": "stream",
     "text": [
      "Please enter your age (or type -1 to exit):  1\n"
     ]
    },
    {
     "name": "stdout",
     "output_type": "stream",
     "text": [
      "The ticket is free.\n"
     ]
    },
    {
     "name": "stdin",
     "output_type": "stream",
     "text": [
      "Please enter your age (or type -1 to exit):  2\n"
     ]
    },
    {
     "name": "stdout",
     "output_type": "stream",
     "text": [
      "The ticket is free.\n"
     ]
    },
    {
     "name": "stdin",
     "output_type": "stream",
     "text": [
      "Please enter your age (or type -1 to exit):  3\n"
     ]
    },
    {
     "name": "stdout",
     "output_type": "stream",
     "text": [
      "The ticket is $10.\n"
     ]
    },
    {
     "name": "stdin",
     "output_type": "stream",
     "text": [
      "Please enter your age (or type -1 to exit):  -1\n"
     ]
    },
    {
     "name": "stdout",
     "output_type": "stream",
     "text": [
      "Exiting the program. Have a great day!\n"
     ]
    }
   ],
   "source": [
    "while True:\n",
    "\n",
    "    age = int(input(\"Please enter your age (or type -1 to exit): \"))\n",
    "\n",
    "    if age == -1:\n",
    "        print(\"Exiting the program. Have a great day!\")\n",
    "        break\n",
    "\n",
    "    if age < 3:\n",
    "        print(\"The ticket is free.\")\n",
    "    elif 3 <= age <= 12:\n",
    "        print(\"The ticket is $10.\")\n",
    "    else:\n",
    "        print(\"The ticket is $15.\")\n"
   ]
  },
  {
   "cell_type": "code",
   "execution_count": null,
   "id": "7b556cb4-2421-451e-95d3-a93efd9155bc",
   "metadata": {},
   "outputs": [],
   "source": []
  },
  {
   "cell_type": "code",
   "execution_count": null,
   "id": "0939c6f2-833b-4814-9b04-03ad86ae4ddf",
   "metadata": {},
   "outputs": [],
   "source": []
  },
  {
   "cell_type": "code",
   "execution_count": null,
   "id": "901cf951-7f49-42a7-b5f8-cf846a78cc0b",
   "metadata": {},
   "outputs": [],
   "source": []
  },
  {
   "cell_type": "code",
   "execution_count": null,
   "id": "c01e2dd6-fa5d-49f1-8502-02f063cc212e",
   "metadata": {},
   "outputs": [],
   "source": []
  }
 ],
 "metadata": {
  "kernelspec": {
   "display_name": "Python 3 (ipykernel)",
   "language": "python",
   "name": "python3"
  },
  "language_info": {
   "codemirror_mode": {
    "name": "ipython",
    "version": 3
   },
   "file_extension": ".py",
   "mimetype": "text/x-python",
   "name": "python",
   "nbconvert_exporter": "python",
   "pygments_lexer": "ipython3",
   "version": "3.12.4"
  }
 },
 "nbformat": 4,
 "nbformat_minor": 5
}
