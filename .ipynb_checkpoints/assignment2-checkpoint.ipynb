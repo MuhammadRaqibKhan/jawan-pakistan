{
 "cells": [
  {
   "cell_type": "code",
   "execution_count": 1,
   "id": "ed818f65-faf3-4504-85a9-b97aa0d1ffde",
   "metadata": {},
   "outputs": [
    {
     "name": "stdout",
     "output_type": "stream",
     "text": [
      "Twinkle, twinkle, little star,\n",
      "        How I wonder what you are!\n",
      "                Up above the world so high,\n",
      "                Like a diamond in the sky.\n",
      "        Twinkle, twinkle, little star,\n",
      "            How I wonder what you are\n"
     ]
    }
   ],
   "source": [
    "print('''Twinkle, twinkle, little star,\n",
    "        How I wonder what you are!\n",
    "                Up above the world so high,\n",
    "                Like a diamond in the sky.\n",
    "        Twinkle, twinkle, little star,\n",
    "            How I wonder what you are''')"
   ]
  },
  {
   "cell_type": "code",
   "execution_count": 2,
   "id": "c307d597-5cae-4709-9174-1000787bcc2a",
   "metadata": {},
   "outputs": [
    {
     "name": "stdout",
     "output_type": "stream",
     "text": [
      "3.12.4 | packaged by Anaconda, Inc. | (main, Jun 18 2024, 15:03:56) [MSC v.1929 64 bit (AMD64)]\n"
     ]
    }
   ],
   "source": [
    "import sys\n",
    "print(sys.version)"
   ]
  },
  {
   "cell_type": "code",
   "execution_count": 3,
   "id": "8b055ca2-7321-4de7-8c28-6a16f0d61fc1",
   "metadata": {},
   "outputs": [
    {
     "name": "stdout",
     "output_type": "stream",
     "text": [
      "2024-08-06 22:01:23.363120\n"
     ]
    }
   ],
   "source": [
    "from datetime import datetime\n",
    "print(datetime.now())"
   ]
  },
  {
   "cell_type": "code",
   "execution_count": 4,
   "id": "a174eb18-503a-46c0-8acf-2f90ec7c228a",
   "metadata": {},
   "outputs": [
    {
     "name": "stdin",
     "output_type": "stream",
     "text": [
      "enter the value of radius of circle 2\n"
     ]
    },
    {
     "name": "stdout",
     "output_type": "stream",
     "text": [
      "the area of circle is: 12.56\n"
     ]
    }
   ],
   "source": [
    "radius=int(input(\"enter the value of radius of circle\"))\n",
    "area = 3.14*radius**2\n",
    "print(\"the area of circle is:\", area)"
   ]
  },
  {
   "cell_type": "code",
   "execution_count": 5,
   "id": "19db9c1d-5a89-464a-88d2-f80a5e9732d3",
   "metadata": {},
   "outputs": [
    {
     "name": "stdin",
     "output_type": "stream",
     "text": [
      "enter first name 2\n",
      "enter last name 3\n"
     ]
    },
    {
     "name": "stdout",
     "output_type": "stream",
     "text": [
      "2 3\n"
     ]
    }
   ],
   "source": [
    "fn=str(input(\"enter first name\"))\n",
    "ln=str(input(\"enter last name\"))\n",
    "print(fn[::-1], ln[::-1])"
   ]
  },
  {
   "cell_type": "code",
   "execution_count": 6,
   "id": "f46f1b98-d608-4add-9ccd-efc0b68bf03d",
   "metadata": {},
   "outputs": [
    {
     "name": "stdin",
     "output_type": "stream",
     "text": [
      "enter first number 3\n",
      "enter second number 2\n"
     ]
    },
    {
     "name": "stdout",
     "output_type": "stream",
     "text": [
      "5.0\n"
     ]
    }
   ],
   "source": [
    "a=float(input(\"enter first number\"))\n",
    "b=float(input(\"enter second number\"))\n",
    "c=a+b\n",
    "print(c)"
   ]
  },
  {
   "cell_type": "code",
   "execution_count": 7,
   "id": "dbf3a6b1-3df3-48a2-9fb9-7da2b17431ca",
   "metadata": {},
   "outputs": [
    {
     "name": "stdin",
     "output_type": "stream",
     "text": [
      "enter first subject's marks 77\n",
      "enter second subject's marks 88\n",
      "enter third subject's marks 77\n",
      "enter fourth subject's marks 88\n",
      "enter fivth subject's marks 80\n"
     ]
    },
    {
     "name": "stdout",
     "output_type": "stream",
     "text": [
      "your grade is A\n"
     ]
    }
   ],
   "source": [
    "a=float(input(\"enter first subject's marks\"))\n",
    "b=float(input(\"enter second subject's marks\"))\n",
    "c=float(input(\"enter third subject's marks\"))\n",
    "d=float(input(\"enter fourth subject's marks\"))\n",
    "e=float(input(\"enter fivth subject's marks\"))\n",
    "sum=a+b+c+d+e\n",
    "avg=sum/5\n",
    "if avg>=90:\n",
    "    print(\"your grade is A+\")\n",
    "elif avg>= 80:\n",
    "    print(\"your grade is A\")\n",
    "elif avg>= 70:\n",
    "    print(\"your grade is B\")\n",
    "elif avg>= 60:\n",
    "    print(\"your grade is C\")\n",
    "else:\n",
    "    print(\"your grade is F\")"
   ]
  },
  {
   "cell_type": "code",
   "execution_count": 8,
   "id": "b3453035-00d8-459a-a8cf-e6b37cf1a06b",
   "metadata": {},
   "outputs": [
    {
     "name": "stdin",
     "output_type": "stream",
     "text": [
      "enter a whole number: 3\n"
     ]
    },
    {
     "name": "stdout",
     "output_type": "stream",
     "text": [
      "number is odd\n"
     ]
    }
   ],
   "source": [
    "a=int(input(\"enter a whole number:\"))\n",
    "if a%2==0:\n",
    "    print(\"given number is even\")\n",
    "elif a%2==1:\n",
    "    print(\"number is odd\")\n",
    "else:\n",
    "    print(\"number is not whole number\")\n"
   ]
  },
  {
   "cell_type": "code",
   "execution_count": 9,
   "id": "1bddaf0b-9d5c-4f42-b313-661ec7006917",
   "metadata": {},
   "outputs": [
    {
     "name": "stdout",
     "output_type": "stream",
     "text": [
      "4\n"
     ]
    }
   ],
   "source": [
    "goocery=[\"mangos\",\"banana\",\"apple\",\"peach\"]\n",
    "print(len(goocery))"
   ]
  },
  {
   "cell_type": "code",
   "execution_count": 10,
   "id": "e3e9c30c-d27d-4ee6-b0e1-a962a95b7689",
   "metadata": {},
   "outputs": [
    {
     "name": "stdout",
     "output_type": "stream",
     "text": [
      "15\n"
     ]
    }
   ],
   "source": [
    "my_list = [1, 2, 3, 4, 5]\n",
    "total_sum = 0\n",
    "for item in my_list:\n",
    "    total_sum += item\n",
    "print(total_sum)"
   ]
  },
  {
   "cell_type": "code",
   "execution_count": 54,
   "id": "5bdbd192-64ff-41e4-9e80-dc3017417155",
   "metadata": {},
   "outputs": [
    {
     "name": "stdout",
     "output_type": "stream",
     "text": [
      "5\n"
     ]
    }
   ],
   "source": [
    "my_list = [1, 2, 3, 4, 5]\n",
    "print(max(my_list))"
   ]
  },
  {
   "cell_type": "code",
   "execution_count": 55,
   "id": "37b09d43-74dc-4e9b-a4ac-1a59c8a4fe0b",
   "metadata": {},
   "outputs": [
    {
     "name": "stdout",
     "output_type": "stream",
     "text": [
      "1\n",
      "1\n",
      "2\n",
      "3\n"
     ]
    }
   ],
   "source": [
    "a = [1, 1, 2, 3, 5, 8, 13, 21, 34, 55, 89]\n",
    "\n",
    "for item in a:\n",
    "    if item < 5:\n",
    "        print(item)"
   ]
  }
 ],
 "metadata": {
  "kernelspec": {
   "display_name": "Python 3 (ipykernel)",
   "language": "python",
   "name": "python3"
  },
  "language_info": {
   "codemirror_mode": {
    "name": "ipython",
    "version": 3
   },
   "file_extension": ".py",
   "mimetype": "text/x-python",
   "name": "python",
   "nbconvert_exporter": "python",
   "pygments_lexer": "ipython3",
   "version": "3.12.4"
  }
 },
 "nbformat": 4,
 "nbformat_minor": 5
}
