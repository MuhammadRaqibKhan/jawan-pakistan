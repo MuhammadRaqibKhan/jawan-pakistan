{
 "cells": [
  {
   "cell_type": "markdown",
   "id": "21e2acd2-3b23-4712-9d01-8741a81386e0",
   "metadata": {},
   "source": [
    "# Question 1"
   ]
  },
  {
   "cell_type": "code",
   "execution_count": 4,
   "id": "6b569711-2027-453d-8221-19d29c35f29c",
   "metadata": {},
   "outputs": [
    {
     "name": "stdout",
     "output_type": "stream",
     "text": [
      "[(101, 'Alice Johnson', 'HR'), (102, 'Bob Smith', 'Engineering'), (103, 'Charlie Davis', 'Marketing'), (104, 'Diana Clark', 'Finance')]\n"
     ]
    }
   ],
   "source": [
    "# List of employee records\n",
    "employee_records = [\n",
    "    (101, \"Alice Johnson\", \"HR\"),\n",
    "    (102, \"Bob Smith\", \"Engineering\"),\n",
    "    (103, \"Charlie Davis\", \"Marketing\"),\n",
    "    (104, \"Diana Clark\", \"Finance\")\n",
    "]\n",
    "print(employee_records)"
   ]
  },
  {
   "cell_type": "markdown",
   "id": "967d1b44-16f9-4880-b3e1-5566533a17fc",
   "metadata": {},
   "source": [
    "# Question 2\n"
   ]
  },
  {
   "cell_type": "code",
   "execution_count": 6,
   "id": "f9e74b3a-ce38-405d-b997-7d23500494b6",
   "metadata": {},
   "outputs": [
    {
     "name": "stdout",
     "output_type": "stream",
     "text": [
      "Item ID: 304, Description: Mouse, Quantity Available: 100\n"
     ]
    }
   ],
   "source": [
    "# List of inventory items\n",
    "inventory_items = [\n",
    "    (301, \"Laptop\", 15),\n",
    "    (302, \"Monitor\", 30),\n",
    "    (303, \"Keyboard\", 50),\n",
    "    (304, \"Mouse\", 100)\n",
    "]\n",
    "\n",
    "for item in inventory_items:\n",
    "    item_id, description, quantity = item\n",
    "\n",
    "print(f\"Item ID: {item_id}, Description: {description}, Quantity Available: {quantity}\")\n"
   ]
  },
  {
   "cell_type": "markdown",
   "id": "a4fec7ad-d5aa-4b87-877c-f9ce9844243b",
   "metadata": {},
   "source": [
    "# Question 3"
   ]
  },
  {
   "cell_type": "code",
   "execution_count": 7,
   "id": "8889b8bb-1769-46d9-b6c1-62b8680a8d0d",
   "metadata": {},
   "outputs": [
    {
     "name": "stdout",
     "output_type": "stream",
     "text": [
      "Event Date: 2024-08-15, Event Time: 09:00 AM\n",
      "Event Date: 2024-08-16, Event Time: 11:30 AM\n",
      "Event Date: 2024-08-17, Event Time: 02:00 PM\n",
      "Event Date: 2024-08-18, Event Time: 04:15 PM\n"
     ]
    }
   ],
   "source": [
    "# List of scheduled events\n",
    "scheduled_events = [\n",
    "    (\"2024-08-15\", \"09:00 AM\"),\n",
    "    (\"2024-08-16\", \"11:30 AM\"),\n",
    "    (\"2024-08-17\", \"02:00 PM\"),\n",
    "    (\"2024-08-18\", \"04:15 PM\")\n",
    "]\n",
    "\n",
    "# Accessing scheduled events\n",
    "for event in scheduled_events:\n",
    "    date, time = event\n",
    "    print(f\"Event Date: {date}, Event Time: {time}\")\n"
   ]
  },
  {
   "cell_type": "markdown",
   "id": "86b0cf52-3af6-48fa-9f0b-3e688efc3148",
   "metadata": {},
   "source": [
    "# Question 4"
   ]
  },
  {
   "cell_type": "code",
   "execution_count": 9,
   "id": "a8765f4f-b0a4-421f-b4b2-68edd2a3a52d",
   "metadata": {},
   "outputs": [
    {
     "name": "stdout",
     "output_type": "stream",
     "text": [
      "Department: HR\n",
      "  Employee ID: 101, Name: Alice Johnson, Position: Manager\n",
      "  Employee ID: 102, Name: Eve Smith, Position: Recruiter\n",
      "Department: Engineering\n",
      "  Employee ID: 201, Name: Bob Brown, Position: Software Engineer\n",
      "  Employee ID: 202, Name: Tom Clark, Position: Systems Analyst\n",
      "Department: Marketing\n",
      "  Employee ID: 301, Name: Charlie Davis, Position: Marketing Specialist\n",
      "  Employee ID: 302, Name: Nina Turner, Position: Content Creator\n",
      "Department: Finance\n",
      "  Employee ID: 401, Name: Diana Clark, Position: Accountant\n",
      "  Employee ID: 402, Name: Frank Lee, Position: Financial Analyst\n"
     ]
    }
   ],
   "source": [
    "# Dictionary of employee details organized by department\n",
    "company_employees = {\n",
    "    \"HR\": {\n",
    "        101: {\"name\": \"Alice Johnson\", \"position\": \"Manager\"},\n",
    "        102: {\"name\": \"Eve Smith\", \"position\": \"Recruiter\"}\n",
    "    },\n",
    "    \"Engineering\": {\n",
    "        201: {\"name\": \"Bob Brown\", \"position\": \"Software Engineer\"},\n",
    "        202: {\"name\": \"Tom Clark\", \"position\": \"Systems Analyst\"}\n",
    "    },\n",
    "    \"Marketing\": {\n",
    "        301: {\"name\": \"Charlie Davis\", \"position\": \"Marketing Specialist\"},\n",
    "        302: {\"name\": \"Nina Turner\", \"position\": \"Content Creator\"}\n",
    "    },\n",
    "    \"Finance\": {\n",
    "        401: {\"name\": \"Diana Clark\", \"position\": \"Accountant\"},\n",
    "        402: {\"name\": \"Frank Lee\", \"position\": \"Financial Analyst\"}\n",
    "    }\n",
    "}\n",
    "\n",
    "# Accessing employee details\n",
    "for department, employees in company_employees.items():\n",
    "    print(f\"Department: {department}\")\n",
    "    for emp_id, details in employees.items():\n",
    "        print(f\"  Employee ID: {emp_id}, Name: {details['name']}, Position: {details['position']}\")\n"
   ]
  },
  {
   "cell_type": "markdown",
   "id": "b2d2c05d-e49e-4702-ab45-31a091608bac",
   "metadata": {},
   "source": [
    "# Question 5"
   ]
  },
  {
   "cell_type": "code",
   "execution_count": 14,
   "id": "f93d0da1-090d-4cb1-b725-97cef293f6a4",
   "metadata": {},
   "outputs": [
    {
     "name": "stdout",
     "output_type": "stream",
     "text": [
      "Scores for Jane Smith:\n",
      "  Math: 90\n",
      "  English: 88\n",
      "  Science: 94\n"
     ]
    }
   ],
   "source": [
    "# List of dictionaries to store student scores\n",
    "student_scores = [\n",
    "    {\n",
    "        \"name\": \"John Doe\",\n",
    "        \"Math\": 85,\n",
    "        \"English\": 78,\n",
    "        \"Science\": 92\n",
    "    },\n",
    "    {\n",
    "        \"name\": \"Jane Smith\",\n",
    "        \"Math\": 90,\n",
    "        \"English\": 88,\n",
    "        \"Science\": 94\n",
    "    },\n",
    "    {\n",
    "        \"name\": \"Emily Johnson\",\n",
    "        \"Math\": 76,\n",
    "        \"English\": 85,\n",
    "        \"Science\": 80\n",
    "    }\n",
    "]\n",
    "\n",
    "# Function to retrieve a student's scores\n",
    "def get_student_scores(student_name):\n",
    "    for student in student_scores:\n",
    "        if student[\"name\"] == student_name:\n",
    "            return {subject: score for subject, score in student.items() if subject != \"name\"}\n",
    "    return None\n",
    "\n",
    "# Example usage\n",
    "student_name = \"Jane Smith\"\n",
    "scores = get_student_scores(student_name)\n",
    "if scores:\n",
    "    print(f\"Scores for {student_name}:\")\n",
    "    for subject, score in scores.items():\n",
    "        print(f\"  {subject}: {score}\")\n",
    "else:\n",
    "    print(f\"No scores found for {student_name}.\")\n"
   ]
  },
  {
   "cell_type": "markdown",
   "id": "f855d550-8299-4fd0-afbd-9fc74d169715",
   "metadata": {},
   "source": [
    "# Question 6"
   ]
  },
  {
   "cell_type": "code",
   "execution_count": 16,
   "id": "78210816-ed0c-42cf-9c68-b8db92f8049a",
   "metadata": {},
   "outputs": [
    {
     "name": "stdout",
     "output_type": "stream",
     "text": [
      "Tasks for Project Beta:\n",
      "  Task 1: Planning\n",
      "  Task 2: Execution\n",
      "  Task 3: Testing\n"
     ]
    }
   ],
   "source": [
    "# Dictionary to track projects and their associated tasks\n",
    "projects = {\n",
    "    \"Project Alpha\": [\n",
    "        \"Task 1: Research\",\n",
    "        \"Task 2: Design\",\n",
    "        \"Task 3: Development\"\n",
    "    ],\n",
    "    \"Project Beta\": [\n",
    "        \"Task 1: Planning\",\n",
    "        \"Task 2: Execution\",\n",
    "        \"Task 3: Testing\"\n",
    "    ],\n",
    "    \"Project Gamma\": [\n",
    "        \"Task 1: Proposal\",\n",
    "        \"Task 2: Implementation\",\n",
    "        \"Task 3: Review\"\n",
    "    ]\n",
    "}\n",
    "\n",
    "# Function to retrieve tasks for a specific project\n",
    "def get_project_tasks(project_name):\n",
    "    return projects.get(project_name, \"No tasks found for this project.\")\n",
    "\n",
    "# Example usage\n",
    "project_name = \"Project Beta\"\n",
    "tasks = get_project_tasks(project_name)\n",
    "if isinstance(tasks, list):\n",
    "    print(f\"Tasks for {project_name}:\")\n",
    "    for task in tasks:\n",
    "        print(f\"  {task}\")\n",
    "else:\n",
    "    print(tasks)\n"
   ]
  },
  {
   "cell_type": "markdown",
   "id": "99f0ea68-c847-46e7-98ff-fb7bf8543322",
   "metadata": {},
   "source": [
    "# Question 7"
   ]
  },
  {
   "cell_type": "code",
   "execution_count": 17,
   "id": "be057650-da59-4a63-b1da-a7ce7cbe285b",
   "metadata": {},
   "outputs": [
    {
     "name": "stdout",
     "output_type": "stream",
     "text": [
      "{'title': 'Data Analysis with Pandas', 'description': 'Data analysis using Pandas.'}\n"
     ]
    }
   ],
   "source": [
    "# Dictionary to store courses and their modules\n",
    "training_program = {\n",
    "    \"Python Programming\": {\n",
    "        \"Module 1\": {\"title\": \"Introduction to Python\", \"description\": \"Basics of Python.\"},\n",
    "        \"Module 2\": {\"title\": \"Data Structures\", \"description\": \"Learn data structures.\"}\n",
    "    },\n",
    "    \"Data Science\": {\n",
    "        \"Module 1\": {\"title\": \"Introduction to Data Science\", \"description\": \"Overview of data science.\"},\n",
    "        \"Module 2\": {\"title\": \"Data Analysis with Pandas\", \"description\": \"Data analysis using Pandas.\"}\n",
    "    }\n",
    "}\n",
    "\n",
    "# Function to get module details\n",
    "def get_module_details(course_name, module_name):\n",
    "    course = training_program.get(course_name)\n",
    "    if course:\n",
    "        module = course.get(module_name)\n",
    "        if module:\n",
    "            return module\n",
    "        else:\n",
    "            return \"Module not found.\"\n",
    "    else:\n",
    "        return \"Course not found.\"\n",
    "\n",
    "# Example usage\n",
    "course_name = \"Data Science\"\n",
    "module_name = \"Module 2\"\n",
    "details = get_module_details(course_name, module_name)\n",
    "print(details)\n"
   ]
  },
  {
   "cell_type": "markdown",
   "id": "204ba8cf-59ed-4b7c-a2e8-2a0ac4d8b654",
   "metadata": {},
   "source": [
    "# Question 8"
   ]
  },
  {
   "cell_type": "code",
   "execution_count": 18,
   "id": "ecd7dd53-eeb2-43e0-851f-4dd9b677bbc6",
   "metadata": {},
   "outputs": [
    {
     "name": "stdout",
     "output_type": "stream",
     "text": [
      "Products below the threshold:\n",
      "Headphones\n",
      "Mouse\n"
     ]
    }
   ],
   "source": [
    "# List of products with their prices\n",
    "products = [\n",
    "    (\"Laptop\", 1000),\n",
    "    (\"Smartphone\", 600),\n",
    "    (\"Headphones\", 150),\n",
    "    (\"Mouse\", 25)\n",
    "]\n",
    "\n",
    "# Price threshold\n",
    "threshold = 200\n",
    "\n",
    "# Find products below the price threshold\n",
    "affordable_products = [name for name, price in products if price < threshold]\n",
    "\n",
    "# Print the result\n",
    "print(\"Products below the threshold:\")\n",
    "for product in affordable_products:\n",
    "    print(product)\n"
   ]
  }
 ],
 "metadata": {
  "kernelspec": {
   "display_name": "Python 3 (ipykernel)",
   "language": "python",
   "name": "python3"
  },
  "language_info": {
   "codemirror_mode": {
    "name": "ipython",
    "version": 3
   },
   "file_extension": ".py",
   "mimetype": "text/x-python",
   "name": "python",
   "nbconvert_exporter": "python",
   "pygments_lexer": "ipython3",
   "version": "3.12.4"
  }
 },
 "nbformat": 4,
 "nbformat_minor": 5
}
